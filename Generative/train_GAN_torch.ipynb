{
 "cells": [
  {
   "cell_type": "code",
   "execution_count": 1,
   "id": "unlikely-implementation",
   "metadata": {},
   "outputs": [],
   "source": [
    "import os\n",
    "import random\n",
    "import torch\n",
    "import torch.nn as nn\n",
    "import torch.nn.parallel\n",
    "import torch.backends.cudnn as cudnn\n",
    "import torch.optim as optim\n",
    "import numpy as np\n",
    "import matplotlib.pyplot as plt\n",
    "import matplotlib.animation as animation"
   ]
  },
  {
   "cell_type": "code",
   "execution_count": 2,
   "id": "blessed-lexington",
   "metadata": {},
   "outputs": [
    {
     "name": "stdout",
     "output_type": "stream",
     "text": [
      "Random Seed:  999\n"
     ]
    },
    {
     "data": {
      "text/plain": [
       "<torch._C.Generator at 0x7f404454df70>"
      ]
     },
     "execution_count": 2,
     "metadata": {},
     "output_type": "execute_result"
    }
   ],
   "source": [
    "# Set random seed for reproducibility\n",
    "manualSeed = 999\n",
    "#manualSeed = random.randint(1, 10000) # use if you want new results\n",
    "print(\"Random Seed: \", manualSeed)\n",
    "random.seed(manualSeed)\n",
    "torch.manual_seed(manualSeed)"
   ]
  },
  {
   "cell_type": "code",
   "execution_count": 41,
   "id": "julian-belgium",
   "metadata": {},
   "outputs": [],
   "source": [
    "# Number of workers for dataloader\n",
    "workers = 2\n",
    "\n",
    "# Batch size during training\n",
    "batch_size = 128\n",
    "\n",
    "# Spatial size of training images. All images will be resized to this\n",
    "#   size using a transformer.\n",
    "image_size = 1\n",
    "\n",
    "# Size of z latent vector (i.e. size of generator input)\n",
    "nz = 100\n",
    "\n",
    "# Size of feature maps in generator\n",
    "ngf = 64\n",
    "\n",
    "# Size of feature maps in discriminator\n",
    "ndf = 64\n",
    "\n",
    "# Number of training epochs\n",
    "num_epochs = 100000\n",
    "\n",
    "# Learning rate for optimizers\n",
    "lr = 0.0002\n",
    "\n",
    "# Beta1 hyperparam for Adam optimizers\n",
    "beta1 = 0.5\n",
    "\n",
    "# Number of GPUs available. Use 0 for CPU mode.\n",
    "ngpu = 0"
   ]
  },
  {
   "cell_type": "code",
   "execution_count": 19,
   "id": "abstract-female",
   "metadata": {},
   "outputs": [],
   "source": [
    "# custom weights initialization called on netG and netD\n",
    "def weights_init(m):\n",
    "    classname = m.__class__.__name__\n",
    "    if classname.find('Conv') != -1:\n",
    "        nn.init.normal_(m.weight.data, 0.0, 0.02)\n",
    "    elif classname.find('BatchNorm') != -1:\n",
    "        nn.init.normal_(m.weight.data, 1.0, 0.02)\n",
    "        nn.init.constant_(m.bias.data, 0)"
   ]
  },
  {
   "cell_type": "code",
   "execution_count": 20,
   "id": "dying-turtle",
   "metadata": {},
   "outputs": [],
   "source": [
    "# Generator Code\n",
    "\n",
    "class Generator(nn.Module):\n",
    "    def __init__(self, ngpu, input_size):\n",
    "        super(Generator, self).__init__()\n",
    "        self.ngpu = ngpu\n",
    "        self.main = nn.Sequential(\n",
    "            # input is Z, going into a convolution\n",
    "            nn.Linear(input_size, 128, bias=False),\n",
    "            nn.LeakyReLU(0.2),\n",
    "\n",
    "            nn.Linear(128, 128, bias=False),\n",
    "            nn.LeakyReLU(0.2),\n",
    "            \n",
    "            nn.Linear(128, 128, bias=False),\n",
    "            nn.LeakyReLU(0.2),\n",
    "            \n",
    "            nn.Linear(128, 128, bias=False),\n",
    "            nn.LeakyReLU(0.2),\n",
    "            \n",
    "            nn.Linear(128, 6, bias=False),\n",
    "            nn.Sigmoid()\n",
    "        )\n",
    "\n",
    "    def forward(self, input):\n",
    "        return self.main(input)"
   ]
  },
  {
   "cell_type": "code",
   "execution_count": 21,
   "id": "subtle-athens",
   "metadata": {},
   "outputs": [],
   "source": [
    "device = torch.device(\"cuda:0\" if (torch.cuda.is_available() and ngpu > 0) else \"cpu\")"
   ]
  },
  {
   "cell_type": "code",
   "execution_count": 22,
   "id": "distinct-classroom",
   "metadata": {},
   "outputs": [
    {
     "data": {
      "text/plain": [
       "0"
      ]
     },
     "execution_count": 22,
     "metadata": {},
     "output_type": "execute_result"
    }
   ],
   "source": [
    "ngpu"
   ]
  },
  {
   "cell_type": "code",
   "execution_count": 23,
   "id": "subtle-reunion",
   "metadata": {},
   "outputs": [
    {
     "name": "stdout",
     "output_type": "stream",
     "text": [
      "Generator(\n",
      "  (main): Sequential(\n",
      "    (0): Linear(in_features=50, out_features=128, bias=False)\n",
      "    (1): LeakyReLU(negative_slope=0.2)\n",
      "    (2): Linear(in_features=128, out_features=128, bias=False)\n",
      "    (3): LeakyReLU(negative_slope=0.2)\n",
      "    (4): Linear(in_features=128, out_features=128, bias=False)\n",
      "    (5): LeakyReLU(negative_slope=0.2)\n",
      "    (6): Linear(in_features=128, out_features=128, bias=False)\n",
      "    (7): LeakyReLU(negative_slope=0.2)\n",
      "    (8): Linear(in_features=128, out_features=6, bias=False)\n",
      "    (9): Sigmoid()\n",
      "  )\n",
      ")\n"
     ]
    }
   ],
   "source": [
    "# Create the generator\n",
    "netG = Generator(ngpu, 50).to(device)\n",
    "\n",
    "# Handle multi-gpu if desired\n",
    "if (device.type == 'cuda') and (ngpu > 1):\n",
    "    netG = nn.DataParallel(netG, list(range(ngpu)))\n",
    "\n",
    "# Apply the weights_init function to randomly initialize all weights\n",
    "#  to mean=0, stdev=0.02.\n",
    "netG.apply(weights_init)\n",
    "\n",
    "# Print the model\n",
    "print(netG)"
   ]
  },
  {
   "cell_type": "code",
   "execution_count": 24,
   "id": "earlier-chance",
   "metadata": {},
   "outputs": [],
   "source": [
    "class Discriminator(nn.Module):\n",
    "    def __init__(self, ngpu, input_size):\n",
    "        super(Discriminator, self).__init__()\n",
    "        self.ngpu = ngpu\n",
    "        self.main = nn.Sequential(\n",
    "            # input is Z, going into a convolution\n",
    "            nn.Linear(input_size, 128, bias=False),\n",
    "            nn.LeakyReLU(0.2),\n",
    "            nn.Dropout(0.1),\n",
    "\n",
    "            nn.Linear(128, 128, bias=False),\n",
    "            nn.LeakyReLU(0.2),\n",
    "            nn.Dropout(0.1),\n",
    "            \n",
    "            nn.Linear(128, 128, bias=False),\n",
    "            nn.LeakyReLU(0.2),\n",
    "            nn.Dropout(0.1),\n",
    "            \n",
    "            nn.Linear(128, 128, bias=False),\n",
    "            nn.LeakyReLU(0.2),\n",
    "            nn.Dropout(0.1),\n",
    "            \n",
    "            nn.Linear(128, 1, bias=False),\n",
    "            nn.Sigmoid()\n",
    "        )\n",
    "\n",
    "    def forward(self, input):\n",
    "        return self.main(input)"
   ]
  },
  {
   "cell_type": "code",
   "execution_count": 25,
   "id": "elegant-heading",
   "metadata": {},
   "outputs": [
    {
     "name": "stdout",
     "output_type": "stream",
     "text": [
      "Discriminator(\n",
      "  (main): Sequential(\n",
      "    (0): Linear(in_features=2, out_features=128, bias=False)\n",
      "    (1): LeakyReLU(negative_slope=0.2)\n",
      "    (2): Dropout(p=0.1, inplace=False)\n",
      "    (3): Linear(in_features=128, out_features=128, bias=False)\n",
      "    (4): LeakyReLU(negative_slope=0.2)\n",
      "    (5): Dropout(p=0.1, inplace=False)\n",
      "    (6): Linear(in_features=128, out_features=128, bias=False)\n",
      "    (7): LeakyReLU(negative_slope=0.2)\n",
      "    (8): Dropout(p=0.1, inplace=False)\n",
      "    (9): Linear(in_features=128, out_features=128, bias=False)\n",
      "    (10): LeakyReLU(negative_slope=0.2)\n",
      "    (11): Dropout(p=0.1, inplace=False)\n",
      "    (12): Linear(in_features=128, out_features=1, bias=False)\n",
      "    (13): Sigmoid()\n",
      "  )\n",
      ")\n"
     ]
    }
   ],
   "source": [
    "# Create the Discriminator\n",
    "netD = Discriminator(ngpu, 2).to(device)\n",
    "\n",
    "# Handle multi-gpu if desired\n",
    "if (device.type == 'cuda') and (ngpu > 1):\n",
    "    netD = nn.DataParallel(netD, list(range(ngpu)))\n",
    "    \n",
    "# Apply the weights_init function to randomly initialize all weights\n",
    "#  to mean=0, stdev=0.2.\n",
    "netD.apply(weights_init)\n",
    "\n",
    "# Print the model\n",
    "print(netD)"
   ]
  },
  {
   "cell_type": "code",
   "execution_count": 26,
   "id": "higher-given",
   "metadata": {},
   "outputs": [
    {
     "name": "stdout",
     "output_type": "stream",
     "text": [
      "torch.Size([64, 50])\n"
     ]
    }
   ],
   "source": [
    "# Initialize BCELoss function\n",
    "criterion = nn.BCELoss()\n",
    "\n",
    "# Create batch of latent vectors that we will use to visualize\n",
    "#  the progression of the generator\n",
    "fixed_noise = torch.randn(64, 50, device=device)\n",
    "print(fixed_noise.shape)\n",
    "# Establish convention for real and fake labels during training\n",
    "real_label = 1.\n",
    "fake_label = 0.\n",
    "\n",
    "# Setup Adam optimizers for both G and D\n",
    "optimizerD = optim.Adam(netD.parameters(), lr=lr, betas=(beta1, 0.999))\n",
    "optimizerG = optim.Adam(netG.parameters(), lr=lr, betas=(beta1, 0.999))"
   ]
  },
  {
   "cell_type": "code",
   "execution_count": 27,
   "id": "mental-intellectual",
   "metadata": {},
   "outputs": [],
   "source": [
    "from data_prep_torch import u_v_model, gen_events, get_dsigma1, get_dsigma2, wrapperGenerator, paramsToEvents\n",
    "from scipy.special import gamma"
   ]
  },
  {
   "cell_type": "code",
   "execution_count": 28,
   "id": "coral-floor",
   "metadata": {},
   "outputs": [
    {
     "name": "stdout",
     "output_type": "stream",
     "text": [
      "Ground Truth parameters:  [ 2.1875  -0.5      3.       1.09375 -0.5      4.     ]\n"
     ]
    }
   ],
   "source": [
    "# outputDirectory = \"/work/data_science/kishan/Theory/Experiments_0/\"\n",
    "beta=lambda a,b: gamma(a)*gamma(b)/gamma(a+b)\n",
    "\n",
    "au=-0.5; bu=3; nu=2/beta(au+1,bu+1)\n",
    "ad=-0.5; bd=4; nd=1/beta(au+1,bu+1)\n",
    "truth_par=np.array([nu,au,bu,nd,ad,bd])\n",
    "print(\"Ground Truth parameters: \", truth_par)"
   ]
  },
  {
   "cell_type": "code",
   "execution_count": 29,
   "id": "spectacular-acrobat",
   "metadata": {},
   "outputs": [
    {
     "name": "stdout",
     "output_type": "stream",
     "text": [
      "tensor([[0.7292, 0.2500, 0.6000, 0.3646, 0.2500, 0.8000],\n",
      "        [0.7292, 0.2500, 0.6000, 0.3646, 0.2500, 0.8000]])\n"
     ]
    }
   ],
   "source": [
    "truth = np.array([[2.1875, -0.5, 3, 1.09375, -0.5, 4],\n",
    "                 [2.1875, -0.5, 3, 1.09375, -0.5, 4]]).astype(np.float32)\n",
    "parmin = np.array([0.0, -1.0, 0.0, 0.0, -1.0, 0.0]).astype(np.float32)\n",
    "parmax = np.array([3.0, 1.0, 5.0, 3.0, 1.0, 5.0]).astype(np.float32)\n",
    "\n",
    "def normalize_pars(t, parmin, parmax):\n",
    "    return (t - parmin) / (parmax - parmin)\n",
    "\n",
    "truth_scaled = normalize_pars(truth, parmin, parmax)\n",
    "truth_scaled = torch.from_numpy(truth_scaled)\n",
    "parmin = torch.from_numpy(parmin)\n",
    "parmax = torch.from_numpy(parmax)\n",
    "print(truth_scaled)\n",
    "train_events, train_norm1, train_norm2 = wrapperGenerator(truth_scaled, parmin, parmax, 100000)\n",
    "train_events = train_events[0]\n",
    "train_norm1 = train_norm1[0]\n",
    "train_norm2 = train_norm2[0]"
   ]
  },
  {
   "cell_type": "code",
   "execution_count": 30,
   "id": "opponent-indonesian",
   "metadata": {},
   "outputs": [
    {
     "data": {
      "text/plain": [
       "torch.Size([2, 100000])"
      ]
     },
     "execution_count": 30,
     "metadata": {},
     "output_type": "execute_result"
    }
   ],
   "source": [
    "train_events.shape"
   ]
  },
  {
   "cell_type": "code",
   "execution_count": 31,
   "id": "adapted-academy",
   "metadata": {},
   "outputs": [
    {
     "data": {
      "image/png": "[encoded data removed]",
      "text/plain": [
       "<Figure size 1008x720 with 1 Axes>"
      ]
     },
     "metadata": {
      "needs_background": "light"
     },
     "output_type": "display_data"
    }
   ],
   "source": [
    "heights11, _, _ = plt.hist(train_events[0].numpy(), bins=50, alpha=0.5, label=\"sigma1\", density=True)\n",
    "heights12, _, _ = plt.hist(train_events[1].numpy(), bins=50, alpha=0.5, label=\"sigma2\", density=True)\n",
    "plt.title(\"Ground truth events distribution (Torch)\")\n",
    "plt.legend()\n",
    "plt.show()"
   ]
  },
  {
   "cell_type": "code",
   "execution_count": null,
   "id": "yellow-norfolk",
   "metadata": {},
   "outputs": [
    {
     "name": "stdout",
     "output_type": "stream",
     "text": [
      "Starting Training Loop...\n",
      "[0/100000]\tLoss_D: 1.3846\tLoss_G: 0.7052\n",
      "[50/100000]\tLoss_D: 1.3872\tLoss_G: 0.6972\n",
      "[100/100000]\tLoss_D: 1.3877\tLoss_G: 0.6869\n",
      "[150/100000]\tLoss_D: 1.3880\tLoss_G: 0.6944\n",
      "[200/100000]\tLoss_D: 1.3859\tLoss_G: 0.6970\n",
      "[250/100000]\tLoss_D: 1.3861\tLoss_G: 0.6812\n",
      "[300/100000]\tLoss_D: 1.3881\tLoss_G: 0.7013\n",
      "[350/100000]\tLoss_D: 1.3870\tLoss_G: 0.6884\n",
      "[400/100000]\tLoss_D: 1.3864\tLoss_G: 0.6853\n",
      "[450/100000]\tLoss_D: 1.3857\tLoss_G: 0.7027\n",
      "[500/100000]\tLoss_D: 1.3863\tLoss_G: 0.6949\n",
      "[550/100000]\tLoss_D: 1.3863\tLoss_G: 0.6872\n",
      "[600/100000]\tLoss_D: 1.3870\tLoss_G: 0.6960\n",
      "[650/100000]\tLoss_D: 1.3860\tLoss_G: 0.6903\n",
      "[700/100000]\tLoss_D: 1.3856\tLoss_G: 0.6889\n",
      "[750/100000]\tLoss_D: 1.3853\tLoss_G: 0.6863\n",
      "[800/100000]\tLoss_D: 1.3858\tLoss_G: 0.7071\n",
      "[850/100000]\tLoss_D: 1.3845\tLoss_G: 0.6819\n",
      "[900/100000]\tLoss_D: 1.3883\tLoss_G: 0.7049\n",
      "[950/100000]\tLoss_D: 1.3863\tLoss_G: 0.6822\n",
      "[1000/100000]\tLoss_D: 1.3851\tLoss_G: 0.7091\n",
      "[1050/100000]\tLoss_D: 1.3848\tLoss_G: 0.6845\n",
      "[1100/100000]\tLoss_D: 1.3888\tLoss_G: 0.7010\n",
      "[1150/100000]\tLoss_D: 1.3861\tLoss_G: 0.6892\n",
      "[1200/100000]\tLoss_D: 1.3903\tLoss_G: 0.6894\n",
      "[1250/100000]\tLoss_D: 1.3856\tLoss_G: 0.6907\n",
      "[1300/100000]\tLoss_D: 1.3882\tLoss_G: 0.7084\n",
      "[1350/100000]\tLoss_D: 1.3881\tLoss_G: 0.6838\n",
      "[1400/100000]\tLoss_D: 1.3870\tLoss_G: 0.7002\n",
      "[1450/100000]\tLoss_D: 1.3861\tLoss_G: 0.6804\n",
      "[1500/100000]\tLoss_D: 1.3856\tLoss_G: 0.7026\n",
      "[1550/100000]\tLoss_D: 1.3861\tLoss_G: 0.6923\n",
      "[1600/100000]\tLoss_D: 1.3859\tLoss_G: 0.6879\n",
      "[1650/100000]\tLoss_D: 1.3850\tLoss_G: 0.7064\n",
      "[1700/100000]\tLoss_D: 1.3855\tLoss_G: 0.6886\n",
      "[1750/100000]\tLoss_D: 1.3861\tLoss_G: 0.6925\n",
      "[1800/100000]\tLoss_D: 1.3875\tLoss_G: 0.7014\n",
      "[1850/100000]\tLoss_D: 1.3863\tLoss_G: 0.6883\n",
      "[1900/100000]\tLoss_D: 1.3845\tLoss_G: 0.7011\n",
      "[1950/100000]\tLoss_D: 1.3880\tLoss_G: 0.6866\n",
      "[2000/100000]\tLoss_D: 1.3853\tLoss_G: 0.6981\n",
      "[2050/100000]\tLoss_D: 1.3862\tLoss_G: 0.6848\n",
      "[2100/100000]\tLoss_D: 1.3862\tLoss_G: 0.7020\n",
      "[2150/100000]\tLoss_D: 1.3840\tLoss_G: 0.6842\n",
      "[2200/100000]\tLoss_D: 1.3865\tLoss_G: 0.6960\n",
      "[2250/100000]\tLoss_D: 1.3864\tLoss_G: 0.6930\n",
      "[2300/100000]\tLoss_D: 1.3872\tLoss_G: 0.6903\n",
      "[2350/100000]\tLoss_D: 1.3875\tLoss_G: 0.6956\n",
      "[2400/100000]\tLoss_D: 1.3863\tLoss_G: 0.6870\n",
      "[2450/100000]\tLoss_D: 1.3858\tLoss_G: 0.6976\n",
      "[2500/100000]\tLoss_D: 1.3862\tLoss_G: 0.6934\n",
      "[2550/100000]\tLoss_D: 1.3865\tLoss_G: 0.6913\n",
      "[2600/100000]\tLoss_D: 1.3861\tLoss_G: 0.6963\n",
      "[2650/100000]\tLoss_D: 1.3866\tLoss_G: 0.6889\n",
      "[2700/100000]\tLoss_D: 1.3863\tLoss_G: 0.6937\n",
      "[2750/100000]\tLoss_D: 1.3862\tLoss_G: 0.6947\n",
      "[2800/100000]\tLoss_D: 1.3868\tLoss_G: 0.6864\n",
      "[2850/100000]\tLoss_D: 1.3862\tLoss_G: 0.6986\n",
      "[2900/100000]\tLoss_D: 1.3863\tLoss_G: 0.6924\n",
      "[2950/100000]\tLoss_D: 1.3862\tLoss_G: 0.6938\n",
      "[3000/100000]\tLoss_D: 1.3865\tLoss_G: 0.6969\n",
      "[3050/100000]\tLoss_D: 1.3877\tLoss_G: 0.6838\n",
      "[3100/100000]\tLoss_D: 1.3866\tLoss_G: 0.7005\n",
      "[3150/100000]\tLoss_D: 1.3872\tLoss_G: 0.6877\n",
      "[3200/100000]\tLoss_D: 1.3867\tLoss_G: 0.6974\n",
      "[3250/100000]\tLoss_D: 1.3868\tLoss_G: 0.6908\n",
      "[3300/100000]\tLoss_D: 1.3864\tLoss_G: 0.6950\n",
      "[3350/100000]\tLoss_D: 1.3860\tLoss_G: 0.6930\n",
      "[3400/100000]\tLoss_D: 1.3866\tLoss_G: 0.6960\n",
      "[3450/100000]\tLoss_D: 1.3867\tLoss_G: 0.6916\n",
      "[3500/100000]\tLoss_D: 1.3831\tLoss_G: 0.7072\n",
      "[3550/100000]\tLoss_D: 1.3863\tLoss_G: 0.6801\n",
      "[3600/100000]\tLoss_D: 1.3861\tLoss_G: 0.7037\n",
      "[3650/100000]\tLoss_D: 1.3853\tLoss_G: 0.6874\n",
      "[3700/100000]\tLoss_D: 1.3854\tLoss_G: 0.6976\n",
      "[3750/100000]\tLoss_D: 1.3868\tLoss_G: 0.6942\n",
      "[3800/100000]\tLoss_D: 1.3866\tLoss_G: 0.6916\n",
      "[3850/100000]\tLoss_D: 1.3864\tLoss_G: 0.6915\n",
      "[3900/100000]\tLoss_D: 1.3872\tLoss_G: 0.6931\n",
      "[3950/100000]\tLoss_D: 1.3841\tLoss_G: 0.7029\n",
      "[4000/100000]\tLoss_D: 1.3861\tLoss_G: 0.6928\n",
      "[4050/100000]\tLoss_D: 1.3894\tLoss_G: 0.6840\n",
      "[4100/100000]\tLoss_D: 1.3865\tLoss_G: 0.7164\n",
      "[4150/100000]\tLoss_D: 1.3860\tLoss_G: 0.6899\n",
      "[4200/100000]\tLoss_D: 1.3870\tLoss_G: 0.6893\n",
      "[4250/100000]\tLoss_D: 1.3858\tLoss_G: 0.7034\n",
      "[4300/100000]\tLoss_D: 1.3862\tLoss_G: 0.6944\n",
      "[4350/100000]\tLoss_D: 1.3855\tLoss_G: 0.6896\n",
      "[4400/100000]\tLoss_D: 1.3866\tLoss_G: 0.6905\n",
      "[4450/100000]\tLoss_D: 1.3860\tLoss_G: 0.6982\n",
      "[4500/100000]\tLoss_D: 1.3862\tLoss_G: 0.6931\n",
      "[4550/100000]\tLoss_D: 1.3862\tLoss_G: 0.6896\n",
      "[4600/100000]\tLoss_D: 1.3860\tLoss_G: 0.6932\n",
      "[4650/100000]\tLoss_D: 1.3867\tLoss_G: 0.6959\n",
      "[4700/100000]\tLoss_D: 1.3865\tLoss_G: 0.6919\n",
      "[4750/100000]\tLoss_D: 1.3864\tLoss_G: 0.6914\n",
      "[4800/100000]\tLoss_D: 1.3859\tLoss_G: 0.6956\n",
      "[4850/100000]\tLoss_D: 1.3862\tLoss_G: 0.6931\n",
      "[4900/100000]\tLoss_D: 1.3872\tLoss_G: 0.6909\n",
      "[4950/100000]\tLoss_D: 1.3863\tLoss_G: 0.6962\n",
      "[5000/100000]\tLoss_D: 1.3863\tLoss_G: 0.6930\n",
      "[5050/100000]\tLoss_D: 1.3865\tLoss_G: 0.6912\n",
      "[5100/100000]\tLoss_D: 1.3863\tLoss_G: 0.6947\n",
      "[5150/100000]\tLoss_D: 1.3862\tLoss_G: 0.6933\n",
      "[5200/100000]\tLoss_D: 1.3864\tLoss_G: 0.6919\n",
      "[5250/100000]\tLoss_D: 1.3863\tLoss_G: 0.6930\n",
      "[5300/100000]\tLoss_D: 1.3863\tLoss_G: 0.6948\n",
      "[5350/100000]\tLoss_D: 1.3863\tLoss_G: 0.6926\n",
      "[5400/100000]\tLoss_D: 1.3863\tLoss_G: 0.6932\n",
      "[5450/100000]\tLoss_D: 1.3864\tLoss_G: 0.6941\n",
      "[5500/100000]\tLoss_D: 1.3860\tLoss_G: 0.6923\n",
      "[5550/100000]\tLoss_D: 1.3861\tLoss_G: 0.6942\n",
      "[5600/100000]\tLoss_D: 1.3863\tLoss_G: 0.6929\n",
      "[5650/100000]\tLoss_D: 1.3862\tLoss_G: 0.6919\n",
      "[5700/100000]\tLoss_D: 1.3860\tLoss_G: 0.6957\n",
      "[5750/100000]\tLoss_D: 1.3861\tLoss_G: 0.6916\n",
      "[5800/100000]\tLoss_D: 1.3864\tLoss_G: 0.6940\n",
      "[5850/100000]\tLoss_D: 1.3860\tLoss_G: 0.6933\n",
      "[5900/100000]\tLoss_D: 1.3865\tLoss_G: 0.6926\n",
      "[5950/100000]\tLoss_D: 1.3862\tLoss_G: 0.6940\n",
      "[6000/100000]\tLoss_D: 1.3862\tLoss_G: 0.6923\n",
      "[6050/100000]\tLoss_D: 1.3873\tLoss_G: 0.6964\n",
      "[6100/100000]\tLoss_D: 1.3857\tLoss_G: 0.6865\n",
      "[6150/100000]\tLoss_D: 1.3863\tLoss_G: 0.6961\n",
      "[6200/100000]\tLoss_D: 1.3863\tLoss_G: 0.6906\n",
      "[6250/100000]\tLoss_D: 1.3853\tLoss_G: 0.6945\n",
      "[6300/100000]\tLoss_D: 1.3862\tLoss_G: 0.6921\n",
      "[6350/100000]\tLoss_D: 1.3858\tLoss_G: 0.6937\n",
      "[6400/100000]\tLoss_D: 1.3866\tLoss_G: 0.6921\n",
      "[6450/100000]\tLoss_D: 1.3867\tLoss_G: 0.6929\n",
      "[6500/100000]\tLoss_D: 1.3873\tLoss_G: 0.6914\n",
      "[6550/100000]\tLoss_D: 1.3865\tLoss_G: 0.6935\n",
      "[6600/100000]\tLoss_D: 1.3909\tLoss_G: 0.6890\n",
      "[6650/100000]\tLoss_D: 1.3876\tLoss_G: 0.6888\n",
      "[6700/100000]\tLoss_D: 1.3864\tLoss_G: 0.6935\n",
      "[6750/100000]\tLoss_D: 1.3870\tLoss_G: 0.6946\n",
      "[6800/100000]\tLoss_D: 1.3860\tLoss_G: 0.6938\n",
      "[6850/100000]\tLoss_D: 1.3884\tLoss_G: 0.6852\n"
     ]
    }
   ],
   "source": [
    "# Training Loop\n",
    "\n",
    "# Lists to keep track of progress\n",
    "img_list = []\n",
    "G_losses = []\n",
    "D_losses = []\n",
    "iters = 0\n",
    "\n",
    "print(\"Starting Training Loop...\")\n",
    "# For each epoch\n",
    "for epoch in range(num_epochs):\n",
    "    # For each batch in the dataloader\n",
    "    \n",
    "    indices = np.random.randint(0, train_events.shape[1], 64)\n",
    "    data = np.transpose(train_events[:, indices])\n",
    "    noise = torch.randn(b_size, 50, device=device)\n",
    "    parmin = parmin.to(device)\n",
    "    parmax = parmax.to(device)\n",
    "\n",
    "    netD.zero_grad()\n",
    "    real_cpu = data.to(device)\n",
    "    b_size = real_cpu.size(0)\n",
    "    label = torch.full((b_size,), real_label, dtype=torch.float, device=device)\n",
    "\n",
    "    # Forward pass real batch through D\n",
    "    output = netD(real_cpu).view(-1)\n",
    "    errD_real = criterion(output, label)\n",
    "    errD_real.backward(retain_graph=True)\n",
    "\n",
    "    fake = netG(noise)\n",
    "    label.fill_(fake_label)\n",
    "    events, norm1, norm2 = wrapperGenerator(fake, parmin, parmax, 1)\n",
    "    events = torch.squeeze(events)\n",
    "    output = netD(events).view(-1)\n",
    "    errD_fake = criterion(output, label)\n",
    "    errD_fake.backward(retain_graph=True)\n",
    "    errD = errD_real + errD_fake\n",
    "    optimizerD.step()\n",
    "\n",
    "\n",
    "    # (2) Update G network: maximize log(D(G(z)))    \n",
    "    netG.zero_grad()\n",
    "    label.fill_(real_label)  \n",
    "    events, norm1, norm2 = wrapperGenerator(fake, parmin, parmax, 1)\n",
    "    events = torch.squeeze(events)\n",
    "    output = netD(events).view(-1)\n",
    "    errG = criterion(output, label)\n",
    "    errG.backward()\n",
    "    optimizerG.step()\n",
    "\n",
    "    # Output training stats\n",
    "    if iters % 50 == 0:\n",
    "        print('[%d/%d]\\tLoss_D: %.4f\\tLoss_G: %.4f'\n",
    "              % (epoch, num_epochs,\n",
    "                 errD.item(), errG.item()))\n",
    "\n",
    "    # Save Losses for plotting later\n",
    "    G_losses.append(errG.item())\n",
    "    D_losses.append(errD.item())\n",
    "\n",
    "    iters += 1"
   ]
  },
  {
   "cell_type": "code",
   "execution_count": null,
   "id": "liable-individual",
   "metadata": {},
   "outputs": [],
   "source": []
  },
  {
   "cell_type": "code",
   "execution_count": null,
   "id": "thrown-activation",
   "metadata": {},
   "outputs": [],
   "source": []
  }
 ],
 "metadata": {
  "kernelspec": {
   "display_name": "Python 3",
   "language": "python",
   "name": "python3"
  },
  "language_info": {
   "codemirror_mode": {
    "name": "ipython",
    "version": 3
   },
   "file_extension": ".py",
   "mimetype": "text/x-python",
   "name": "python",
   "nbconvert_exporter": "python",
   "pygments_lexer": "ipython3",
   "version": "3.8.6"
  }
 },
 "nbformat": 4,
 "nbformat_minor": 5
}
